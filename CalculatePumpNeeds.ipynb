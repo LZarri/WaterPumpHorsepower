{
 "cells": [
  {
   "cell_type": "raw",
   "metadata": {},
   "source": [
    "Vocabulary:\n",
    "    Flow discharge: Total discharge\n",
    "    Head (Pressure Head): Dynamic measurement, containing the following measurements\n",
    "        Static suction head: Vertical distance from water surface to pump center-line where pump must lift water\n",
    "            Subtract submerged depth. Good news-the depth to which we are dropping the hose does not matter!\n",
    "        Static elevation head: Vertical distance from pump to highest discharge pipe\n",
    "        Pressure head: Operating pressure of sprinkler or output\n",
    "        Friction head: Pressure losses due to friction\n",
    "    Total Static Head = static suction lift + static elevation head\n",
    "        Total pressure needed to make pipes fill up to highest point\n",
    "    Total Dynamic Head = total static head + pressure head + friction head\n",
    "        Total head needed to make system operate properly\n",
    "    Water horsepower = Flow (gpm) * Total Dynamic Head (ft) / 3960\n",
    "        Power required to move water with a pump\n",
    "    Brake horsepower = Water horsepower / Efficiency\n",
    "        Actual power needed for pump, accounts for inefficiencies\n",
    "        Note that this does not include power losses within motor or engine driving pump"
   ]
  },
  {
   "cell_type": "markdown",
   "metadata": {},
   "source": [
    "Diagram of Pump Chart \n",
    "    https://cluster63-files.instructure.com/courses/969642/files/27532354/course%20files/Images/Fig-IR-BH-6.html"
   ]
  },
  {
   "cell_type": "raw",
   "metadata": {},
   "source": [
    "Assumptions & calculations:\n",
    "    Flow discharge = A * v\n",
    "        A: flow area\n",
    "        v: flow velocity\n",
    "    Static suction head: Distance from water surface to pump\n",
    "    Static elevation head: Negligible\n",
    "    Pressure head: Negligible\n",
    "    Friction head = f(L/D)*((v^2)/2g)\n",
    "        f: friction factor\n",
    "        L: Length of pipe (ft)\n",
    "        D: Diameter of pipe (ft)\n",
    "        v: velocity of water (ft/s^2)\n",
    "        g: acceleration of gravity (32.73ft/s^2)\n",
    "    We will assume friction head loss is 1 ft\n",
    "    "
   ]
  },
  {
   "cell_type": "code",
   "execution_count": null,
   "metadata": {
    "collapsed": false
   },
   "outputs": [],
   "source": [
    "import math as mt\n",
    "\n",
    "FlowDiameter = float(raw_input(\"What is diameter of the pipe in inches? >>> \"))\n",
    "FlowArea = mt.pi*(((FlowDiameter/12)/2)**2) #Area = pi*r^2\n",
    "print \"Flow area is %s ft^2\" % (round(FlowArea,2))\n",
    "FlowVelocity = float(raw_input(\"What is the flow velocity through the pipe in feet per second? >>> \"))\n",
    "FlowRate = FlowArea*FlowVelocity\n",
    "FlowDischarge = round((FlowRate*448.8325660485),2)\n",
    "print \"Flow Rate is %s GPM\" % (FlowDischarge)\n",
    "StaticSuctionHead = float(raw_input(\"How far from the surface of the water to the camera? >>> \"))\n",
    "StaticCorrected = StaticSuctionHead+1\n",
    "print \"We will add 1 foot based on pipe friction to make Total Dynamic Head %s feet\" % (int(StaticCorrected))\n",
    "WaterHorsepower = FlowDischarge*StaticCorrected/3960.0\n",
    "print \"Required Water Horsepower is %s HP\" % (round(WaterHorsepower,2))\n",
    "Efficiency = float(raw_input(\"What is the pump efficiency? >>> %\"))/100.0\n",
    "BrakeHorsepower = WaterHorsepower/Efficiency\n",
    "print \"You will need a %s hp pump\" % (round(BrakeHorsepower,2))"
   ]
  },
  {
   "cell_type": "code",
   "execution_count": null,
   "metadata": {
    "collapsed": true
   },
   "outputs": [],
   "source": []
  }
 ],
 "metadata": {
  "kernelspec": {
   "display_name": "Python 2",
   "language": "python2",
   "name": "python2"
  },
  "language_info": {
   "codemirror_mode": {
    "name": "ipython",
    "version": 2
   },
   "file_extension": ".py",
   "mimetype": "text/x-python",
   "name": "python",
   "nbconvert_exporter": "python",
   "pygments_lexer": "ipython2",
   "version": "2.7.12"
  }
 },
 "nbformat": 4,
 "nbformat_minor": 0
}
